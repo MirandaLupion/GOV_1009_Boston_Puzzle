{
 "cells": [
  {
   "cell_type": "code",
   "execution_count": 85,
   "metadata": {},
   "outputs": [],
   "source": [
    "import arcpy"
   ]
  },
  {
   "cell_type": "code",
   "execution_count": 86,
   "metadata": {},
   "outputs": [],
   "source": [
    "# Set paths\n",
    "\n",
    "arcpy.env.overwriteOutput = True \n",
    "\n",
    "datafolder = r\"C:\\Users\\mil472\\Documents\\ArcGIS\\Packages\\BostonPuzzle_3615cc\\p20\\bostonpuzzle.gdb\"\n",
    "\n",
    "storagefolder = r\"C:\\Users\\mil472\\Documents\\ArcGIS\\Packages\\BostonPuzzle_3615cc\\p20\\bostonpuzzle.gdb\"\n",
    "\n",
    "arcpy.env.workspace = storagefolder \n",
    "\n",
    "if arcpy.CheckExtension(\"spatial\") == \"Available\":\n",
    "    arcpy.CheckOutExtension(\"spatial\")\n",
    "else: print(\"extension is not available\")"
   ]
  },
  {
   "cell_type": "code",
   "execution_count": 87,
   "metadata": {},
   "outputs": [],
   "source": [
    "# Create variables\n",
    "\n",
    "boston_boundaries = datafolder + r\"BostonBoundary\"\n",
    "lidar = datafolder + r\"\\lidar_Clip\"\n",
    "T_stops = datafolder + r\"\\MBTA_nodes\"\n",
    "T_lines = datafolder + r\"\\subway_lines\"\n",
    "sprays = datafolder + r\"\\Tot_Sprays\"\n",
    "trash = datafolder + r\"\\TrashDay\"\n",
    "wifi = datafolder + r\"\\Wicked_Free_WiFi_spots\""
   ]
  },
  {
   "cell_type": "code",
   "execution_count": 88,
   "metadata": {},
   "outputs": [
    {
     "data": {
      "text/plain": [
       "<Result 'C:\\\\Users\\\\mil472\\\\Documents\\\\ArcGIS\\\\Packages\\\\BostonPuzzle_3615cc\\\\p20\\\\bostonpuzzle.gdb\\\\Trash_Mon'>"
      ]
     },
     "execution_count": 88,
     "metadata": {},
     "output_type": "execute_result"
    }
   ],
   "source": [
    "# CLUE: The site can put their trash out Sunday night for Monday pickup.\n",
    "\n",
    "# Include areas where trash day is one of two or three days, of which Mondaty is included. \n",
    "where_clause = '\\\"TRASHDAY\\\" LIKE \\'M%\\''\n",
    "\n",
    "selection = arcpy.SelectLayerByAttribute_management(trash, \"NEW_SELECTION\", where_clause)\n",
    "arcpy.CopyFeatures_management(selection, \"Trash_Mon\")"
   ]
  },
  {
   "cell_type": "code",
   "execution_count": 89,
   "metadata": {},
   "outputs": [
    {
     "data": {
      "text/plain": [
       "<Result 'C:\\\\Users\\\\mil472\\\\Documents\\\\ArcGIS\\\\Packages\\\\BostonPuzzle_3615cc\\\\p20\\\\bostonpuzzle.gdb\\\\trash_wifi'>"
      ]
     },
     "execution_count": 89,
     "metadata": {},
     "output_type": "execute_result"
    }
   ],
   "source": [
    "# CLUE: The site is in a census block group that contains two wifi hubs.\n",
    "\n",
    "# Join wifi spots to block group shapefile\n",
    "\n",
    "arcpy.SpatialJoin_analysis(\"Trash_Mon\", wifi, \"wifi_join\")\n",
    "\n",
    "# Select from the joined layer those ssites that contain two wifi hubs\n",
    "\n",
    "where_clause_2 = '\\\"Join_Count\\\" = 2'\n",
    "\n",
    "selection_2 = arcpy.SelectLayerByAttribute_management(\"wifi_join\", \"NEW_SELECTION\", where_clause_2)\n",
    "arcpy.CopyFeatures_management(selection_2, \"trash_wifi\")"
   ]
  },
  {
   "cell_type": "code",
   "execution_count": 96,
   "metadata": {},
   "outputs": [
    {
     "data": {
      "text/plain": [
       "<Result 'C:\\\\Users\\\\mil472\\\\Documents\\\\ArcGIS\\\\Packages\\\\BostonPuzzle_3615cc\\\\p20\\\\bostonpuzzle.gdb\\\\t_stop_spray_select'>"
      ]
     },
     "execution_count": 96,
     "metadata": {},
     "output_type": "execute_result"
    }
   ],
   "source": [
    "# CLUE: The site is approximately 285 meters from the nearest tot spray and a T stop is even closer.\n",
    "\n",
    "# Create spray buffer\n",
    "\n",
    "arcpy.Buffer_analysis(sprays, \"spray_buffer_285_m\", \"285 meters\", \"FULL\", \"ROUND\", \"NONE\")\n",
    "\n",
    "# Find centroids for spray buffer\n",
    "\n",
    "arcpy.FeatureToPoint_management(\"spray_buffer_285_m\", \"buffer_centroids\", \"CENTROID\")\n",
    "\n",
    "# Select By Location for T Stops\n",
    "\n",
    "selection_3 = arcpy.SelectLayerByLocation_management(\"trash_wifi\", \"WITHIN_A_DISTANCE\", T_stops, \"285 meters\")\n",
    "arcpy.CopyFeatures_management(selection_3, \"t_stop_285\")\n",
    "\n",
    "# Find intersection of spray buffer centroids and selected polygons (those within 285 meters of subway stop)\n",
    "\n",
    "selection_4 = arcpy.SelectLayerByLocation_management(\"t_stop_285\", \"INTERSECT\", \"buffer_centroids\")\n",
    "arcpy.CopyFeatures_management(selection_4, \"t_stop_spray_select\")\n"
   ]
  },
  {
   "cell_type": "code",
   "execution_count": null,
   "metadata": {},
   "outputs": [],
   "source": [
    "# CLUE: The building itself has residents and visitors from all over the world.\n",
    "\n",
    "# What is the Boston Marriot in Long Wharf?"
   ]
  }
 ],
 "metadata": {
  "kernelspec": {
   "display_name": "Python 3",
   "language": "python",
   "name": "python3"
  },
  "language_info": {
   "codemirror_mode": {
    "name": "ipython",
    "version": 3
   },
   "file_extension": ".py",
   "mimetype": "text/x-python",
   "name": "python",
   "nbconvert_exporter": "python",
   "pygments_lexer": "ipython3",
   "version": "3.6.8"
  }
 },
 "nbformat": 4,
 "nbformat_minor": 4
}
